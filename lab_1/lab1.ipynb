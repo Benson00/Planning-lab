{
 "cells": [
  {
   "cell_type": "markdown",
   "id": "d9643138",
   "metadata": {},
   "source": [
    "# Planning Lab 1: Modeling planning domains and problems\n",
    "\n",
    "This lab will explore PDDL (Planning Domain Definition Language) and its application in defining planning domains and problems. As our running example we will use the Blocksword domain, one of the most common benchmarks in planning research.\n",
    "\n",
    "#### At the end of this lab you will be able to:\n",
    "- Define a PDDL domain for a planning benchmark domain,\n",
    "- Create problem instances to challenge the planning process"
   ]
  },
  {
   "cell_type": "markdown",
   "id": "28fe0cc8",
   "metadata": {},
   "source": [
    "## The Blocksworld Domain\n",
    "\n",
    "<img src=\"images/blocksworld.png\">\n",
    "\n",
    "The Blocksworld planning domain is a well-known problem in automated planning. It involves a set of blocks and a table, where the task is to move the blocks from an initial arrangement to a desired goal configuration. Each block can be individually placed on the table or stacked on another block, with a limited set of actions available for picking up, putting down, stacking, and unstacking blocks. The challenge lies in determining a sequence of moves that will transform the initial configuration into the goal configuration while respecting constraints such as block order and availability. Although simple in concept, Blocksworld highlights fundamental planning challenges like ordering dependencies, managing subgoal interactions, and efficiently exploring possible sequences of actions.\n",
    "\n",
    "**We will now model the Blocksworld domain using PDDL syntax**"
   ]
  },
  {
   "cell_type": "markdown",
   "id": "f68c6bf6-cbbc-46f9-82dc-454008e6bebc",
   "metadata": {},
   "source": [
    "## PDDL Domain definition\n",
    "\n",
    "### Types\n",
    "- **Blocks**: Each block has a unique identifier (e.g. A, B, C) and can be stacked on top of other blocks or placed on the table. The blocks are homogeneous in size, shape, and weight, so they can be freely moved or stacked.\n",
    "- **Table**: The table acts as a foundational surface where blocks can be placed individually when not stacked on other blocks. We will not explicitly model the table in the domain definition, since we will use a special predicate to represent it.\n",
    "\n",
    "### State Representation (Fluents):\n",
    "- **On(Block1, Block2)**: A relation that denotes Block1 is on top of Block2.\n",
    "- **OnTable(Block)**: A relation indicating that a block is directly on the table, this predicate allows us to represent the interaction with the table.\n",
    "- **Clear(Block)**: A relation indicating that a block has nothing on top of it and can thus be moved.\n",
    "- **Holding(Block)**: Represents the agent holding a specific block. The agent can only hold one block at a time.\n",
    "- **HandEmpty**: A state indicating that the agent is not holding anything.\n",
    "\n",
    "**Below you can see how this definition can be represented in PDDL:**"
   ]
  },
  {
   "cell_type": "code",
   "execution_count": 4,
   "id": "b1c067b7-1bfb-4a5a-abf2-eb79035c822f",
   "metadata": {},
   "outputs": [],
   "source": [
    "domain_model = '''(define (domain blocksworld)\n",
    "\n",
    "\t(:requirements :typing :fluents :negative-preconditions)\n",
    "\n",
    "\t(:types\n",
    "\t\tblock\n",
    "\t\t; we do not need a table type as we use the ontable predicate\n",
    "\t)\n",
    "\n",
    "\t(:predicates\n",
    "\t\t(on ?a ?b - block) ; block `?a` is top of block `?b`\n",
    "\t\t(ontable ?a - block) ; block `?a` is on table\n",
    "        (clear ?a - block) ; there is nothing on top of block `?a`\n",
    "\t\t(holding ?a - block) ; gripper is holding block `?a`\n",
    "\t\t(handempty) ; gripper is not holding any block\n",
    "\t)\n",
    "    \n",
    "'''"
   ]
  },
  {
   "cell_type": "markdown",
   "id": "b5a8e8ad-0acf-4eae-9a3c-68f1560238a1",
   "metadata": {},
   "source": [
    "### Actions:\n",
    "- **PickUp(Block)**: The agent picks up a block from the table.  \n",
    "   *Preconditions*: the block is on the table and clear.  \n",
    "   *Effects*: the block is now held by the agent (holding), and the agent’s hand is no longer empty.\n",
    "- **PutDown(Block)**: The agent places a block on the table.  \n",
    "   *Preconditions*: the agent is holding the block.  \n",
    "   *Effects*: the block is now on the table, and the agent's hand becomes empty.\n",
    "- **Stack(Block1, Block2)**: The agent stacks one block on top of another.  \n",
    "   *Preconditions*: the agent is holding Block1, and Block2 is clear.  \n",
    "   *Effects*: Block1 is now on Block2, and the agent's hand is empty.\n",
    "- **Unstack(Block1, Block2)**: The agent removes Block1 from on top of Block2.  \n",
    "   *Preconditions*: Block1 is on Block2 and clear.  \n",
    "   *Effects*: the agent is holding Block1, and Block2 is now clear."
   ]
  },
  {
   "cell_type": "markdown",
   "id": "49399d36-a05b-41f5-8ebb-a138ba6ae4d4",
   "metadata": {},
   "source": [
    "## Exercise 1:\n",
    "**Have a look at how we defined the PickUp and Unstack actions and complete the definition adding the PutDown and Stack actions:**"
   ]
  },
  {
   "cell_type": "code",
   "execution_count": 5,
   "id": "ba0039b2-43eb-4e0c-ab47-146cf512452b",
   "metadata": {},
   "outputs": [],
   "source": [
    "domain_actions = '''\n",
    "\t(:action pickup ; this action is only for picking from table\n",
    "\t\t:parameters (?a - block)\n",
    "\t\t:precondition (and\n",
    "\t\t\t(ontable ?a)\n",
    "\t\t\t(handempty)\n",
    "\t\t\t(clear ?a)\n",
    "\t\t)\n",
    "\t\t:effect (and\n",
    "\t\t\t(holding ?a)\n",
    "\t\t\t(not (handempty))\n",
    "\t\t\t(not (clear ?a))\n",
    "\t\t\t(not (ontable ?a))\n",
    "\t\t)\n",
    "\t)\n",
    "\t(:action unstack ; only suitable for picking from block\n",
    "\t\t:parameters (?a ?b - block)\n",
    "\t\t:precondition (and\n",
    "\t\t\t(on ?a ?b)\n",
    "\t\t\t(handempty)\n",
    "\t\t\t(clear ?a)\n",
    "\t\t)\n",
    "\t\t:effect (and\n",
    "\t\t\t(holding ?a)\n",
    "\t\t\t(not (handempty))\n",
    "\t\t\t(not (clear ?a))\n",
    "\t\t\t(clear ?b)\n",
    "\t\t\t(not (on ?a ?b))\n",
    "\t\t)\n",
    "\t)\n",
    "\n",
    "    ; YOUR CODE HERE\n",
    "\n",
    ")\n",
    "'''\n",
    "with open('blocksworld_domain.pddl', 'w') as f:\n",
    "    f.write(\"\\n\".join([domain_model, domain_actions]))"
   ]
  },
  {
   "cell_type": "markdown",
   "id": "972f0265-02ed-49de-b291-6ae3106d0857",
   "metadata": {},
   "source": [
    "To verify that the definition of the domain is correct, we will now try to execute a simple plan involving the actions you had to implement. To this aim, we make use of the **unified_planning** library, which allows us to import the PDDL domain definition above and convert it into a python object."
   ]
  },
  {
   "cell_type": "code",
   "execution_count": 6,
   "id": "9677d431-d09e-40e5-b271-9f6b5419a521",
   "metadata": {},
   "outputs": [
    {
     "name": "stdout",
     "output_type": "stream",
     "text": [
      "You have to define the putdown and stack actions before proceeding with the notebook!\n",
      " \n",
      "    If you did it, try to rerun the notebook cells from the start!\n"
     ]
    }
   ],
   "source": [
    "from unified_planning.io import PDDLReader, PDDLWriter\n",
    "from unified_planning.shortcuts import *\n",
    "from unified_planning.plans import SequentialPlan, ActionInstance\n",
    "\n",
    "# here we import the domain and a test problem instance:\n",
    "reader = PDDLReader()\n",
    "problem = reader.parse_problem('blocksworld_domain.pddl', 'test_actions.pddl') \n",
    "\n",
    "# here we manually create a simple plan that involves the actions you defined:\n",
    "a = problem.object(\"a\")\n",
    "b = problem.object(\"b\")\n",
    "c = problem.object(\"c\")\n",
    "\n",
    "try:\n",
    "    putdown = problem.action(\"putdown\")\n",
    "    pickup = problem.action(\"pickup\")\n",
    "    stack = problem.action(\"stack\")\n",
    "    plan = SequentialPlan([\n",
    "        ActionInstance(putdown, (a,)), \n",
    "        ActionInstance(pickup, (b,)),  \n",
    "        ActionInstance(stack, (b, c))  \n",
    "    ])\n",
    "except Exception:\n",
    "    print('''You have to define the putdown and stack actions before proceeding with the notebook!\\n \n",
    "    If you did it, try to rerun the notebook cells from the start!''')\n",
    "else:\n",
    "    \n",
    "    # we now check if a real planner can solve a simple problem instance, \n",
    "    # to which the previously defined plan is the solution:\n",
    "    with OneshotPlanner(name=\"fast-downward\") as planner:\n",
    "        result = planner.solve(problem)\n",
    "        is_valid = result.plan == plan\n",
    "        if is_valid:\n",
    "            print(\"The planner solved the test problem using the actions you defined!\")\n",
    "        else:\n",
    "            print(\"The generated plan is not optimal, your action definition might be incomplete!\")\n"
   ]
  },
  {
   "cell_type": "markdown",
   "id": "c755a6bd-bbb4-4c58-830f-c13bf9975d7b",
   "metadata": {},
   "source": [
    "**Now that the domain instance is complete, let's try to define a problem instance. We will make use of the PDDL language again.**\n",
    "\n",
    "## EXERCISE 2\n",
    "Let's try to represent the initial state and goal state depicted in the figure:\n",
    "\n",
    "<img src=\"images/blocksworld-example.png\">\n",
    "\n",
    "**Have a look at the problem definition above and add the missing fluents to describe the situation depicted in the figure:**"
   ]
  },
  {
   "cell_type": "code",
   "execution_count": 7,
   "id": "b0a399b0-8e24-4478-b1d4-3e0fadff3d5f",
   "metadata": {},
   "outputs": [],
   "source": [
    "problem_instance = '''\n",
    "(define (problem demo)(:domain blocksworld)\n",
    "\n",
    "(:objects\n",
    "    A B C - block\n",
    "    )\n",
    "\n",
    "(:init\n",
    "    (ontable A) ; pink block\n",
    "    (on C A)(clear C) ; violet block on pink block\n",
    "    \n",
    "    ; ADD FLUENTS HERE TO REPRESENT THE LIGHT-BLUE BLOCK B\n",
    "\n",
    "    (handempty)\n",
    ")\n",
    "\n",
    "(:goal (and\n",
    "    (on A B)\n",
    "    (clear A)\n",
    "    \n",
    "    ; ADD FLUENTS TO COMPLETE THE GOAL STATE DEFINITION\n",
    "    \n",
    "))\n",
    ")\n",
    "'''"
   ]
  },
  {
   "cell_type": "code",
   "execution_count": 8,
   "id": "7211741c-e3ad-4394-8dda-4f121f3e18d1",
   "metadata": {},
   "outputs": [
    {
     "name": "stdout",
     "output_type": "stream",
     "text": [
      "problem name = demo\n",
      "\n",
      "types = [block]\n",
      "\n",
      "fluents = [\n",
      "  bool on[a=block, b=block]\n",
      "  bool ontable[a=block]\n",
      "  bool clear[a=block]\n",
      "  bool holding[a=block]\n",
      "  bool handempty\n",
      "]\n",
      "\n",
      "actions = [\n",
      "  action pickup(block a) {\n",
      "    preconditions = [\n",
      "      (ontable(a) and handempty and clear(a))\n",
      "    ]\n",
      "    effects = [\n",
      "      holding(a) := true\n",
      "      handempty := false\n",
      "      clear(a) := false\n",
      "      ontable(a) := false\n",
      "    ]\n",
      "  }\n",
      "  action unstack(block a, block b) {\n",
      "    preconditions = [\n",
      "      (on(a, b) and handempty and clear(a))\n",
      "    ]\n",
      "    effects = [\n",
      "      holding(a) := true\n",
      "      handempty := false\n",
      "      clear(a) := false\n",
      "      clear(b) := true\n",
      "      on(a, b) := false\n",
      "    ]\n",
      "  }\n",
      "]\n",
      "\n",
      "objects = [\n",
      "  block: [a, b, c]\n",
      "]\n",
      "\n",
      "initial fluents default = [\n",
      "  bool on[a=block, b=block] := false\n",
      "  bool ontable[a=block] := false\n",
      "  bool clear[a=block] := false\n",
      "  bool holding[a=block] := false\n",
      "  bool handempty := false\n",
      "]\n",
      "\n",
      "initial values = [\n",
      "  ontable(a) := true\n",
      "  on(c, a) := true\n",
      "  clear(c) := true\n",
      "  handempty := true\n",
      "]\n",
      "\n",
      "goals = [\n",
      "  (on(a, b) and clear(a))\n",
      "]\n",
      "\n",
      "\n"
     ]
    }
   ],
   "source": [
    "with open('blocksworld_problem1.pddl', 'w') as f:\n",
    "    f.write(problem_instance)\n",
    "\n",
    "problem = reader.parse_problem('blocksworld_domain.pddl', 'blocksworld_problem1.pddl')\n",
    "print(problem)"
   ]
  },
  {
   "cell_type": "markdown",
   "id": "2e4260dd-6111-4bcc-bb07-a378b61590c0",
   "metadata": {},
   "source": [
    "**Now that our problem instance is complete, let's invoke a state-of-the-art planner (Fast Downward - https://github.com/aibasel/downward/blob/main/README.md) to see if there exists a plan (i.e. a sequence of actions) that can lead from the initial state to the goal state. If you correctly defined the initial and final state the planner should return a solution:**"
   ]
  },
  {
   "cell_type": "code",
   "execution_count": 9,
   "id": "31ea66f2-cd83-4791-9313-b3668eb53875",
   "metadata": {},
   "outputs": [
    {
     "name": "stdout",
     "output_type": "stream",
     "text": [
      "\u001b[96m\u001b[1mNOTE: To disable printing of planning engine credits, add this line to your code: `up.shortcuts.get_environment().credits_stream = None`\n",
      "\u001b[0m\u001b[96m  *** Credits ***\n",
      "\u001b[0m\u001b[96m  * In operation mode `OneshotPlanner` at line 550 of `C:\\Users\\celes\\OneDrive\\Desktop\\PhD\\tutoraggi\\Planning\\2024-2025\\planning_lab_git\\Planning-lab\\planning-lab\\lib\\site-packages\\unified_planning\\shortcuts.py`, \u001b[0m\u001b[96myou are using the following planning engine:\n",
      "\u001b[0m\u001b[96m  * Engine name: Fast Downward\n",
      "  * Developers:  Uni Basel team and contributors (cf. https://github.com/aibasel/downward/blob/main/README.md)\n",
      "\u001b[0m\u001b[96m  * Description: \u001b[0m\u001b[96mFast Downward is a domain-independent classical planning system.\u001b[0m\u001b[96m\n",
      "\u001b[0m\u001b[96m\n",
      "\u001b[0mNo plan found.\n"
     ]
    }
   ],
   "source": [
    "import unified_planning\n",
    "from unified_planning.shortcuts import *\n",
    "\n",
    "with OneshotPlanner() as planner:\n",
    "    result = planner.solve(problem)\n",
    "    if result.status == up.engines.PlanGenerationResultStatus.SOLVED_SATISFICING:\n",
    "        print('The planner found a solution!')\n",
    "        print(result.plan)\n",
    "    else:\n",
    "        print(\"No plan found.\")"
   ]
  },
  {
   "cell_type": "markdown",
   "id": "17e4d5af-bde7-431b-be79-7c85e6bad766",
   "metadata": {},
   "source": [
    "## Exercise 3\n",
    "Now try to define a new problem instance that can be solved using the sequence of actions represented in the figure:\n",
    "\n",
    "<img src=\"images/blocksworld-example2.png\">\n",
    "\n",
    "**Complete the problem definition below and test your solution with the code in the last cell**"
   ]
  },
  {
   "cell_type": "code",
   "execution_count": 10,
   "id": "016335d4-a8aa-4487-8066-ccd332371151",
   "metadata": {},
   "outputs": [],
   "source": [
    "problem_instance_2 = '''\n",
    "(define (problem demo2)(:domain blocksworld)\n",
    "\n",
    "; YOUR CODE HERE\n",
    "; Remember to add objects too!\n",
    "\n",
    "'''"
   ]
  },
  {
   "cell_type": "code",
   "execution_count": 11,
   "id": "4e79b181-ccab-4427-a567-74f8482a3195",
   "metadata": {},
   "outputs": [
    {
     "name": "stdout",
     "output_type": "stream",
     "text": [
      "\u001b[96m  *** Credits ***\n",
      "\u001b[0m\u001b[96m  * In operation mode `OneshotPlanner` at line 550 of `C:\\Users\\celes\\OneDrive\\Desktop\\PhD\\tutoraggi\\Planning\\2024-2025\\planning_lab_git\\Planning-lab\\planning-lab\\lib\\site-packages\\unified_planning\\shortcuts.py`, \u001b[0m\u001b[96myou are using the following planning engine:\n",
      "\u001b[0m\u001b[96m  * Engine name: Fast Downward\n",
      "  * Developers:  Uni Basel team and contributors (cf. https://github.com/aibasel/downward/blob/main/README.md)\n",
      "\u001b[0m\u001b[96m  * Description: \u001b[0m\u001b[96mFast Downward is a domain-independent classical planning system.\u001b[0m\u001b[96m\n",
      "\u001b[0m\u001b[96m\n",
      "\u001b[0mSequentialPlan:\n"
     ]
    }
   ],
   "source": [
    "with open('blocksworld_problem2.pddl', 'w') as f:\n",
    "    f.write(problem_instance_2)\n",
    "problem = reader.parse_problem('blocksworld_domain.pddl', None) #ADD PROBLEM INSTANCE FILE HERE\n",
    "with OneshotPlanner() as planner:\n",
    "    result = planner.solve(problem)\n",
    "    if result.status == up.engines.PlanGenerationResultStatus.SOLVED_SATISFICING:\n",
    "        print(result.plan)\n",
    "    else:\n",
    "        print(\"No plan found.\") "
   ]
  },
  {
   "cell_type": "markdown",
   "id": "e989ecb9-40f8-4072-b2dd-110e7dac62b2",
   "metadata": {},
   "source": [
    "## Exercise 4\n",
    "Now we want to extend our domain to work with different block sizes. Create a new domain definition, modifying the one we built in exercise 1, to represent two kinds of blocks:\n",
    "- SmallBlock: a tiny block that can be put everywhere;\n",
    "- BigBlock: a bigger and heavier block that can be put on the table and on another BigBlock, but not on a SmallBlock.\n",
    "Complete the above specification adding new predicates to represent the weight of the blocks and define the two missing actions (putdown and stack) according to the new predicates."
   ]
  },
  {
   "cell_type": "code",
   "execution_count": 12,
   "id": "96774179-beb8-4303-9ace-325bc9b91a2c",
   "metadata": {},
   "outputs": [],
   "source": [
    "new_domain_model = '''(define (domain sized-blocksworld)\n",
    "\n",
    "\t(:requirements :typing :fluents :negative-preconditions)\n",
    "\n",
    "\t(:types\n",
    "\t\tblock\n",
    "\t)\n",
    "\n",
    "\t(:predicates\n",
    "\t\t(on ?a ?b - block) ; block `?a` is top of block `?b`\n",
    "\t\t(ontable ?a - block) ; block `?a` is on table\n",
    "        (clear ?a - block) ; there is nothing on top of block `?a`\n",
    "\t\t(holding ?a - block) ; gripper is holding block `?a`\n",
    "\t\t(handempty) ; gripper is not holding any block\n",
    "\n",
    "\n",
    "\n",
    "        ; YOUR CODE HERE\n",
    "        ; Hint: you will need to add a 'small-block' predicate and a 'big-block' predicate\n",
    "\n",
    "        \n",
    "\t)\n",
    "    \n",
    "    (:action pickup ; this action is only for picking from table\n",
    "\t\t:parameters (?a - block)\n",
    "\t\t:precondition (and\n",
    "\t\t\t(ontable ?a)\n",
    "\t\t\t(handempty)\n",
    "\t\t\t(clear ?a)\n",
    "\t\t)\n",
    "\t\t:effect (and\n",
    "\t\t\t(holding ?a)\n",
    "\t\t\t(not (handempty))\n",
    "\t\t\t(not (clear ?a))\n",
    "\t\t\t(not (ontable ?a))\n",
    "\t\t)\n",
    "\t)\n",
    "\t(:action unstack ; only suitable for picking from block\n",
    "\t\t:parameters (?a ?b - block)\n",
    "\t\t:precondition (and\n",
    "\t\t\t(on ?a ?b)\n",
    "\t\t\t(handempty)\n",
    "\t\t\t(clear ?a)\n",
    "\t\t)\n",
    "\t\t:effect (and\n",
    "\t\t\t(holding ?a)\n",
    "\t\t\t(not (handempty))\n",
    "\t\t\t(not (clear ?a))\n",
    "\t\t\t(clear ?b)\n",
    "\t\t\t(not (on ?a ?b))\n",
    "\t\t)\n",
    "\t)\n",
    "\n",
    "\n",
    "\n",
    "    ; YOUR CODE HERE\n",
    "\n",
    "\n",
    "\n",
    ")\n",
    "'''\n",
    "with open('sized_blocksworld_domain.pddl', 'w') as f:\n",
    "    f.write(new_domain_model)"
   ]
  },
  {
   "cell_type": "markdown",
   "id": "6f90c966-1c68-48c8-bf57-72956b68e9fc",
   "metadata": {},
   "source": [
    "We will now try solving two simple problem instances to verify that the domain definition is correct. We will ask the planner to find a plan for the two scenarios depicted in the image:\n",
    "\n",
    "<img src=\"images/two_sizes_blocks.png\">\n",
    "\n",
    "The planner should be able to solve scenario 1, but it shouldn't find a plan for scenario 2."
   ]
  },
  {
   "cell_type": "code",
   "execution_count": 13,
   "id": "f6e1e5d9-f856-42d8-9ab5-101a13d0ddaf",
   "metadata": {},
   "outputs": [
    {
     "name": "stdout",
     "output_type": "stream",
     "text": [
      "\n",
      "The parser can't process the problem definition, did you define the small-block and big-block predicates correctly?\n"
     ]
    }
   ],
   "source": [
    "try:\n",
    "    problem1 = reader.parse_problem('sized_blocksworld_domain.pddl', 'sized_problem1.pddl') \n",
    "    problem2 = reader.parse_problem('sized_blocksworld_domain.pddl', 'sized_problem2.pddl') \n",
    "    with OneshotPlanner() as planner:\n",
    "        # Searching for a plan to solve scenario 1\n",
    "        result = planner.solve(problem1)\n",
    "        if result.status == up.engines.PlanGenerationResultStatus.SOLVED_SATISFICING:\n",
    "            print(\"A plan was found for scenario 1:\\n\")\n",
    "            print(result.plan)\n",
    "        else:\n",
    "            print(\"The planner didn't find a way to solve scenario 1, check the domain definition again!\") \n",
    "        # Searching for a plan to solve scenario 2\n",
    "        result = planner.solve(problem2)\n",
    "        if result.status == up.engines.PlanGenerationResultStatus.SOLVED_SATISFICING:\n",
    "            print(\"A plan was found for scenario 2, this should not happen!\\nCheck the obtained plan to see what's wrong:\")\n",
    "            print(result.plan)\n",
    "        else:\n",
    "            print(\"\\n\\nThe planner didn't find a way to solve the impossible scenario 2!\") \n",
    "except:\n",
    "    print(\"\\nThe parser can't process the problem definition, did you define the small-block and big-block predicates correctly?\")"
   ]
  },
  {
   "cell_type": "markdown",
   "id": "3593c8c5-d65b-445c-bb78-99c71dfa4a5f",
   "metadata": {},
   "source": [
    "## Question\n",
    "**What happens if we model the goal state of Scenario 2 as the start state of a new problem instance?**"
   ]
  }
 ],
 "metadata": {
  "kernelspec": {
   "display_name": "Python 3 (ipykernel)",
   "language": "python",
   "name": "python3"
  },
  "language_info": {
   "codemirror_mode": {
    "name": "ipython",
    "version": 3
   },
   "file_extension": ".py",
   "mimetype": "text/x-python",
   "name": "python",
   "nbconvert_exporter": "python",
   "pygments_lexer": "ipython3",
   "version": "3.10.9"
  }
 },
 "nbformat": 4,
 "nbformat_minor": 5
}
